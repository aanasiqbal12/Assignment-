{
 "cells": [
  {
   "cell_type": "code",
   "execution_count": 6,
   "metadata": {},
   "outputs": [
    {
     "name": "stdout",
     "output_type": "stream",
     "text": [
      "Enter Height in Cm : 180\n",
      "Enter Weight in Kg :75\n",
      "Your BMI is  23.15\n"
     ]
    }
   ],
   "source": [
    "import math\n",
    "\n",
    "height = float(input('Enter Height in Cm : '))\n",
    "weight = float(input('Enter Weight in Kg :'))\n",
    "\n",
    "bmi = weight/math.pow(height/100,2)\n",
    "\n",
    "\n",
    "print('Your BMI is ',round(bmi,2))"
   ]
  },
  {
   "cell_type": "code",
   "execution_count": null,
   "metadata": {},
   "outputs": [],
   "source": []
  }
 ],
 "metadata": {
  "kernelspec": {
   "display_name": "Python 3",
   "language": "python",
   "name": "python3"
  },
  "language_info": {
   "codemirror_mode": {
    "name": "ipython",
    "version": 3
   },
   "file_extension": ".py",
   "mimetype": "text/x-python",
   "name": "python",
   "nbconvert_exporter": "python",
   "pygments_lexer": "ipython3",
   "version": "3.7.3"
  }
 },
 "nbformat": 4,
 "nbformat_minor": 2
}
