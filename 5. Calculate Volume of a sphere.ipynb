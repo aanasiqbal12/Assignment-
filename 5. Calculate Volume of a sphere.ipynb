{
 "cells": [
  {
   "cell_type": "code",
   "execution_count": 2,
   "metadata": {},
   "outputs": [
    {
     "name": "stdout",
     "output_type": "stream",
     "text": [
      "Enter radius of Sphere in Cm : 1\n",
      "Area of Circle with Radius  1.0 is  4.19047619047619\n"
     ]
    }
   ],
   "source": [
    "vol = float(input('Enter radius of Sphere in Cm : '))\n",
    "\n",
    "vol = (4/3)*(22/7)*vol*vol*vol\n",
    "\n",
    "print(\"Area of Circle with Radius \",radius,\"is \",vol)"
   ]
  },
  {
   "cell_type": "code",
   "execution_count": null,
   "metadata": {},
   "outputs": [],
   "source": []
  }
 ],
 "metadata": {
  "kernelspec": {
   "display_name": "Python 3",
   "language": "python",
   "name": "python3"
  },
  "language_info": {
   "codemirror_mode": {
    "name": "ipython",
    "version": 3
   },
   "file_extension": ".py",
   "mimetype": "text/x-python",
   "name": "python",
   "nbconvert_exporter": "python",
   "pygments_lexer": "ipython3",
   "version": "3.7.3"
  }
 },
 "nbformat": 4,
 "nbformat_minor": 2
}
