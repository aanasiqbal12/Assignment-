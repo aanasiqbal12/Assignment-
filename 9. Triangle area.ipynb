{
 "cells": [
  {
   "cell_type": "code",
   "execution_count": 3,
   "metadata": {},
   "outputs": [
    {
     "name": "stdout",
     "output_type": "stream",
     "text": [
      "Enter Magnitude of Triangle Base : 4\n",
      "Enter Magnitude of Triangle height : 4\n",
      "Area of triangle with  4 and base  4 is 8.0\n"
     ]
    }
   ],
   "source": [
    "base = input('Enter Magnitude of Triangle Base : ')\n",
    "height = input('Enter Magnitude of Triangle height : ')\n",
    "area = 1/2 * float(base) * float(height)\n",
    "print('Area of triangle with ',height,\"and base \",base,\"is\",area)\n"
   ]
  },
  {
   "cell_type": "code",
   "execution_count": null,
   "metadata": {},
   "outputs": [],
   "source": []
  }
 ],
 "metadata": {
  "kernelspec": {
   "display_name": "Python 3",
   "language": "python",
   "name": "python3"
  },
  "language_info": {
   "codemirror_mode": {
    "name": "ipython",
    "version": 3
   },
   "file_extension": ".py",
   "mimetype": "text/x-python",
   "name": "python",
   "nbconvert_exporter": "python",
   "pygments_lexer": "ipython3",
   "version": "3.7.3"
  }
 },
 "nbformat": 4,
 "nbformat_minor": 2
}
