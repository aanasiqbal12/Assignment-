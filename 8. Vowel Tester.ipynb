{
 "cells": [
  {
   "cell_type": "code",
   "execution_count": 21,
   "metadata": {},
   "outputs": [
    {
     "name": "stdout",
     "output_type": "stream",
     "text": [
      "Enter a Character : g\n",
      "letter g is NOT vowel\n"
     ]
    }
   ],
   "source": [
    "vow = input('Enter a Character : ')\n",
    "if vow == 'a'and 'e' and 'i'and 'o'and 'u'and 'A'and 'E'and 'I'and 'O'and 'U':\n",
    "    print('letter',vow,\"is vowel\" )\n",
    "else:\n",
    "    print('letter',vow,\"is NOT vowel\")"
   ]
  },
  {
   "cell_type": "code",
   "execution_count": 25,
   "metadata": {},
   "outputs": [
    {
     "ename": "SyntaxError",
     "evalue": "invalid syntax (<ipython-input-25-be661a361da3>, line 3)",
     "output_type": "error",
     "traceback": [
      "\u001b[1;36m  File \u001b[1;32m\"<ipython-input-25-be661a361da3>\"\u001b[1;36m, line \u001b[1;32m3\u001b[0m\n\u001b[1;33m    if vow = ['a','e','i','o','u','A','E','I','O','U']:\u001b[0m\n\u001b[1;37m           ^\u001b[0m\n\u001b[1;31mSyntaxError\u001b[0m\u001b[1;31m:\u001b[0m invalid syntax\n"
     ]
    }
   ],
   "source": [
    "#not working\n",
    "vow = input('Enter a Character : ')\n",
    "if vow == ['a','e','i','o','u','A','E','I','O','U']:\n",
    "    print('letter',vow,\"is vowel\" )\n",
    "else:\n",
    "    print('letter',vow,\"is NOT vowel\")"
   ]
  },
  {
   "cell_type": "code",
   "execution_count": null,
   "metadata": {},
   "outputs": [],
   "source": []
  }
 ],
 "metadata": {
  "kernelspec": {
   "display_name": "Python 3",
   "language": "python",
   "name": "python3"
  },
  "language_info": {
   "codemirror_mode": {
    "name": "ipython",
    "version": 3
   },
   "file_extension": ".py",
   "mimetype": "text/x-python",
   "name": "python",
   "nbconvert_exporter": "python",
   "pygments_lexer": "ipython3",
   "version": "3.7.3"
  }
 },
 "nbformat": 4,
 "nbformat_minor": 2
}
