{
 "cells": [
  {
   "cell_type": "code",
   "execution_count": 3,
   "metadata": {},
   "outputs": [
    {
     "name": "stdout",
     "output_type": "stream",
     "text": [
      "Enter Numerator5\n",
      "Enter Denominator2\n",
      "Number 5 is NOT Divisible by  2\n"
     ]
    }
   ],
   "source": [
    "numerator = int(input(\"Enter Numerator\"))\n",
    "denominator = int(input(\"Enter Denominator\"))\n",
    "\n",
    "if numerator % denominator == 0:\n",
    "    print(\"Number\",numerator,\"is Completely Divisible by \",denominator)\n",
    "else:\n",
    "    print(\"Number\",numerator,\"is NOT Divisible by \",denominator)\n",
    "\n"
   ]
  },
  {
   "cell_type": "code",
   "execution_count": null,
   "metadata": {},
   "outputs": [],
   "source": []
  }
 ],
 "metadata": {
  "kernelspec": {
   "display_name": "Python 3",
   "language": "python",
   "name": "python3"
  },
  "language_info": {
   "codemirror_mode": {
    "name": "ipython",
    "version": 3
   },
   "file_extension": ".py",
   "mimetype": "text/x-python",
   "name": "python",
   "nbconvert_exporter": "python",
   "pygments_lexer": "ipython3",
   "version": "3.7.3"
  }
 },
 "nbformat": 4,
 "nbformat_minor": 2
}
