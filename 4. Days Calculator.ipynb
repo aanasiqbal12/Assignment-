{
 "cells": [
  {
   "cell_type": "code",
   "execution_count": 24,
   "metadata": {},
   "outputs": [
    {
     "name": "stdout",
     "output_type": "stream",
     "text": [
      "Enter A date in dd/mm/yyyy Formate 20/05/1993\n",
      "Enter A date in dd/mm/yyyy Formate 17/06/2019\n",
      "There are  9524 days between 20/05/1993 and 17/06/2019\n"
     ]
    }
   ],
   "source": [
    "from datetime import date\n",
    "date1 = input('Enter A date in dd/mm/yyyy Formate ')\n",
    "date2 = input('Enter A date in dd/mm/yyyy Formate ')\n",
    "a = datetime.datetime.strptime(date1,'%d/%m/%Y')\n",
    "b = datetime.datetime.strptime(date2,'%d/%m/%Y')\n",
    "\n",
    "c= b-a\n",
    "day = (c.days)\n",
    "print()\n",
    "print(\"There are \",day, \"days between\",date1,\"and\",date2)"
   ]
  },
  {
   "cell_type": "code",
   "execution_count": null,
   "metadata": {},
   "outputs": [],
   "source": []
  }
 ],
 "metadata": {
  "kernelspec": {
   "display_name": "Python 3",
   "language": "python",
   "name": "python3"
  },
  "language_info": {
   "codemirror_mode": {
    "name": "ipython",
    "version": 3
   },
   "file_extension": ".py",
   "mimetype": "text/x-python",
   "name": "python",
   "nbconvert_exporter": "python",
   "pygments_lexer": "ipython3",
   "version": "3.7.3"
  }
 },
 "nbformat": 4,
 "nbformat_minor": 2
}
