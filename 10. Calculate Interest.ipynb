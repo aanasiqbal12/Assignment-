{
 "cells": [
  {
   "cell_type": "code",
   "execution_count": 7,
   "metadata": {},
   "outputs": [
    {
     "name": "stdout",
     "output_type": "stream",
     "text": [
      "Please Enter Principal amount : 10000\n",
      "Please Enter Rate of Interest in % : 0.1\n",
      "Enter No of years : 5\n",
      "After  5 years your principal amount  10000 over interest Rate of  0.1 % will be  15000.0\n"
     ]
    }
   ],
   "source": [
    "principal_amount = int(input('Please Enter Principal amount : '))\n",
    "interest_rate = float(input('Please Enter Rate of Interest in % : '))\n",
    "years = int(input(\"Enter No of years : \"))\n",
    "ans = (principal_amount+(principal_amount*interest_rate*years))\n",
    "print('After ',years,'years your principal amount ',principal_amount,'over interest Rate of ',\n",
    "      interest_rate,'% will be ',ans)"
   ]
  },
  {
   "cell_type": "code",
   "execution_count": null,
   "metadata": {},
   "outputs": [],
   "source": []
  }
 ],
 "metadata": {
  "kernelspec": {
   "display_name": "Python 3",
   "language": "python",
   "name": "python3"
  },
  "language_info": {
   "codemirror_mode": {
    "name": "ipython",
    "version": 3
   },
   "file_extension": ".py",
   "mimetype": "text/x-python",
   "name": "python",
   "nbconvert_exporter": "python",
   "pygments_lexer": "ipython3",
   "version": "3.7.3"
  }
 },
 "nbformat": 4,
 "nbformat_minor": 2
}
